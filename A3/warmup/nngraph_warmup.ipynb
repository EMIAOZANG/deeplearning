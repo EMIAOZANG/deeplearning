{
 "cells": [
  {
   "cell_type": "code",
   "execution_count": 9,
   "metadata": {
    "collapsed": true
   },
   "outputs": [],
   "source": [
    "require 'nn';\n",
    "require 'nngraph';"
   ]
  },
  {
   "cell_type": "code",
   "execution_count": 10,
   "metadata": {
    "collapsed": true
   },
   "outputs": [],
   "source": [
    "---------------\n",
    "-- 1(a)\n",
    "---------------"
   ]
  },
  {
   "cell_type": "code",
   "execution_count": 2,
   "metadata": {
    "collapsed": true
   },
   "outputs": [],
   "source": [
    "xx = nn.Identity()()\n",
    "yy = nn.Identity()()\n",
    "zz = nn.Identity()()"
   ]
  },
  {
   "cell_type": "code",
   "execution_count": 3,
   "metadata": {
    "collapsed": true
   },
   "outputs": [],
   "source": [
    "--Linear transformation\n",
    "wx_b = nn.Linear(4,2)({xx})\n",
    "wy_b = nn.Linear(5,2)({yy})"
   ]
  },
  {
   "cell_type": "code",
   "execution_count": 4,
   "metadata": {
    "collapsed": true
   },
   "outputs": [],
   "source": [
    "--Non-Linear transformation\n",
    "tanh = nn.Tanh()({wx_b})\n",
    "sig = nn.Sigmoid()({wy_b})"
   ]
  },
  {
   "cell_type": "code",
   "execution_count": 5,
   "metadata": {
    "collapsed": true
   },
   "outputs": [],
   "source": [
    "--Squaring\n",
    "sq_tanh = nn.Square()({tanh})\n",
    "sq_sig = nn.Square()({sig})"
   ]
  },
  {
   "cell_type": "code",
   "execution_count": 6,
   "metadata": {
    "collapsed": true
   },
   "outputs": [],
   "source": [
    "--Pairwise multiplication\n",
    "cproduct = nn.CMulTable()({sq_tanh, sq_sig})"
   ]
  },
  {
   "cell_type": "code",
   "execution_count": 7,
   "metadata": {
    "collapsed": true
   },
   "outputs": [],
   "source": [
    "--Adding z\n",
    "a = nn.CAddTable()({cproduct, zz})"
   ]
  },
  {
   "cell_type": "code",
   "execution_count": 13,
   "metadata": {
    "collapsed": true
   },
   "outputs": [],
   "source": [
    "--assemble the graph\n",
    "model = nn.gModule({xx, yy, zz},{a})"
   ]
  },
  {
   "cell_type": "code",
   "execution_count": 11,
   "metadata": {
    "collapsed": true
   },
   "outputs": [],
   "source": [
    "-----------------\n",
    "-- 1(b)\n",
    "-----------------"
   ]
  },
  {
   "cell_type": "code",
   "execution_count": 17,
   "metadata": {
    "collapsed": false
   },
   "outputs": [
    {
     "data": {
      "text/plain": [
       "{\n",
       "  1 : DoubleTensor - size: 4\n",
       "  2 : DoubleTensor - size: 5\n",
       "  3 : DoubleTensor - size: 2\n",
       "}\n"
      ]
     },
     "execution_count": 17,
     "metadata": {},
     "output_type": "execute_result"
    }
   ],
   "source": [
    "--Choose values for x, y, z and gradOutput\n",
    "x = torch.ones(4)\n",
    "y = torch.ones(5)\n",
    "z = torch.ones(2)\n",
    "gradOutput = torch.ones(2)\n"
   ]
  },
  {
   "cell_type": "code",
   "execution_count": 18,
   "metadata": {
    "collapsed": true
   },
   "outputs": [],
   "source": [
    "--Prints forward pass and backward pass\n",
    "function fp_bp(model_, x_, y_, z_, grad)\n",
    "    print(\"Forward prop outout: \", model_:forward({x_, y_, z_}))\n",
    "    print(\"Backward prop output: \", model_:backward({x_, y_, z_}, grad))\n",
    "end"
   ]
  },
  {
   "cell_type": "code",
   "execution_count": 19,
   "metadata": {
    "collapsed": false
   },
   "outputs": [
    {
     "data": {
      "text/plain": [
       "Forward prop outout: \t 1.0468\n",
       " 1.1608\n",
       "[torch.DoubleTensor of size 2]\n",
       "\n",
       "Backward prop output: \t{\n",
       "  1 : DoubleTensor - size: 4\n",
       "  2 : DoubleTensor - size: 5\n",
       "  3 : DoubleTensor - size: 2\n",
       "}\n",
       "\n"
      ]
     },
     "execution_count": 19,
     "metadata": {},
     "output_type": "execute_result"
    }
   ],
   "source": [
    "--Run\n",
    "fp_bp(model, x, y, z, gradOutput)"
   ]
  },
  {
   "cell_type": "code",
   "execution_count": null,
   "metadata": {
    "collapsed": true
   },
   "outputs": [],
   "source": []
  }
 ],
 "metadata": {
  "kernelspec": {
   "display_name": "iTorch",
   "language": "lua",
   "name": "itorch"
  },
  "language_info": {
   "name": "lua",
   "version": "5.1"
  }
 },
 "nbformat": 4,
 "nbformat_minor": 0
}
