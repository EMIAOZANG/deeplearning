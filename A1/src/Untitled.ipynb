{
 "cells": [
  {
   "cell_type": "code",
   "execution_count": 1,
   "metadata": {
    "collapsed": true
   },
   "outputs": [],
   "source": [
    "a = torch.Tensor(3,1,32,32)"
   ]
  },
  {
   "cell_type": "code",
   "execution_count": 2,
   "metadata": {
    "collapsed": false
   },
   "outputs": [
    {
     "data": {
      "text/plain": [
       "0\t\n"
      ]
     },
     "execution_count": 2,
     "metadata": {},
     "output_type": "execute_result"
    }
   ],
   "source": [
    "print(a[1][1][1][1])"
   ]
  },
  {
   "cell_type": "code",
   "execution_count": 3,
   "metadata": {
    "collapsed": false
   },
   "outputs": [
    {
     "ename": "...luchristopher/torch/install/share/lua/5.1/torch/File.lua:221: read error: read 0 blocks instead of 1 at /Users/luchristopher/torch/pkg/torch/lib/TH/THDiskFile.c:323\nstack traceback:\n\t[C]: in function 'readInt'\n\t...luchristopher/torch/install/share/lua/5.1/torch/File.lua:221: in function 'readObject'\n\t...luchristopher/torch/install/share/lua/5.1/torch/File.lua:347: in function 'load'\n\t[string \"p = torch.load('../dat/mnist.t7')...\"]:1: in main chunk\n\t[C]: in function 'xpcall'\n\t...uchristopher/torch/install/share/lua/5.1/itorch/main.lua:179: in function <...uchristopher/torch/install/share/lua/5.1/itorch/main.lua:143>\n\t...uchristopher/torch/install/share/lua/5.1/lzmq/poller.lua:75: in function 'poll'\n\t...ristopher/torch/install/share/lua/5.1/lzmq/impl/loop.lua:307: in function 'poll'\n\t...ristopher/torch/install/share/lua/5.1/lzmq/impl/loop.lua:325: in function 'sleep_ex'\n\t...ristopher/torch/install/share/lua/5.1/lzmq/impl/loop.lua:370: in function 'start'\n\t...uchristopher/torch/install/share/lua/5.1/itorch/main.lua:350: in main chunk\n\t[C]: in function 'require'\n\t(command line):1: in main chunk\n\t[C]: at 0x010140fbb0",
     "evalue": "",
     "output_type": "error",
     "traceback": [
      "...luchristopher/torch/install/share/lua/5.1/torch/File.lua:221: read error: read 0 blocks instead of 1 at /Users/luchristopher/torch/pkg/torch/lib/TH/THDiskFile.c:323\nstack traceback:\n\t[C]: in function 'readInt'\n\t...luchristopher/torch/install/share/lua/5.1/torch/File.lua:221: in function 'readObject'\n\t...luchristopher/torch/install/share/lua/5.1/torch/File.lua:347: in function 'load'\n\t[string \"p = torch.load('../dat/mnist.t7')...\"]:1: in main chunk\n\t[C]: in function 'xpcall'\n\t...uchristopher/torch/install/share/lua/5.1/itorch/main.lua:179: in function <...uchristopher/torch/install/share/lua/5.1/itorch/main.lua:143>\n\t...uchristopher/torch/install/share/lua/5.1/lzmq/poller.lua:75: in function 'poll'\n\t...ristopher/torch/install/share/lua/5.1/lzmq/impl/loop.lua:307: in function 'poll'\n\t...ristopher/torch/install/share/lua/5.1/lzmq/impl/loop.lua:325: in function 'sleep_ex'\n\t...ristopher/torch/install/share/lua/5.1/lzmq/impl/loop.lua:370: in function 'start'\n\t...uchristopher/torch/install/share/lua/5.1/itorch/main.lua:350: in main chunk\n\t[C]: in function 'require'\n\t(command line):1: in main chunk\n\t[C]: at 0x010140fbb0"
     ]
    }
   ],
   "source": [
    "p = torch.load('../dat/mnist.t7')"
   ]
  }
 ],
 "metadata": {
  "kernelspec": {
   "display_name": "iTorch",
   "language": "lua",
   "name": "itorch"
  },
  "language_info": {
   "name": "lua",
   "version": "20100"
  }
 },
 "nbformat": 4,
 "nbformat_minor": 0
}
